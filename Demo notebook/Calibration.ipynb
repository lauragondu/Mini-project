{
 "cells": [
  {
   "cell_type": "markdown",
   "metadata": {},
   "source": [
    "# Calibration of the model"
   ]
  },
  {
   "cell_type": "code",
   "execution_count": null,
   "metadata": {},
   "outputs": [],
   "source": [
    "import matplotlib.pyplot as plt\n",
    "import sys\n",
    "import hickle\n",
    "from pathlib import Path\n",
    "import numpy as np\n",
    "from formable.utils import read_non_uniform_csv\n",
    "from formable.tensile_test import TensileTest\n",
    "from tensile_test import read_tensile_test_CSV\n",
    "from matflow import load_workflow\n",
    "import matplotlib.pyplot as plt\n",
    "import numpy as np\n",
    "import matplotlib.patches as mpatches"
   ]
  },
  {
   "cell_type": "markdown",
   "metadata": {},
   "source": [
    "## 1. Check Tensile Test Data"
   ]
  },
  {
   "cell_type": "markdown",
   "metadata": {},
   "source": [
    "### Defining parameters to be read: true stress and true strain"
   ]
  },
  {
   "cell_type": "code",
   "execution_count": null,
   "metadata": {},
   "outputs": [],
   "source": [
    "true_strain_col_index= 2 # 0 is left most column\n",
    "true_stress_col_index= 3 \n",
    "eng_strain_col_index = None\n",
    "eng_stress_col_index = None\n",
    "stress_units=\"PA\" # MPA or GPA\n",
    "CSV_arguments = {\"delimiter\":',',\"skip_rows\":1,\"header_row\":0}"
   ]
  },
  {
   "cell_type": "markdown",
   "metadata": {},
   "source": [
    "### Reading data from the paths"
   ]
  },
  {
   "cell_type": "code",
   "execution_count": null,
   "metadata": {},
   "outputs": [],
   "source": [
    "## Path:\n",
    "CSV_file_path = (r\"C:\\Users\\Laura\\Dropbox (The University of Manchester)\\Mini-project\\Experiments\\Data\\Novelis\"\n",
    "                 \"\\Tensile_test\\Data organised for Matflow\\Tensile_test_AlloyA.csv\")\n",
    "## Data:\n",
    "TensileTest_data_A = read_tensile_test_CSV(CSV_file_path,CSV_arguments,eng_strain_col_index,eng_stress_col_index,\n",
    "                                           true_stress_col_index,true_strain_col_index,stress_units)\n",
    "## Path:\n",
    "CSV_file_path = (r\"C:\\Users\\Laura\\Dropbox (The University of Manchester)\\Mini-project\\Experiments\\Data\\Novelis\"\n",
    "                 \"\\Tensile_test\\Data organised for Matflow\\Tensile_test_AlloyB.csv\")\n",
    "## Data:\n",
    "TensileTest_data_B = read_tensile_test_CSV(CSV_file_path,CSV_arguments,eng_strain_col_index,eng_stress_col_index,\n",
    "                                           true_stress_col_index,true_strain_col_index,stress_units)\n",
    "## Path:\n",
    "CSV_file_path = (r\"C:\\Users\\Laura\\Dropbox (The University of Manchester)\\Mini-project\\Experiments\\Data\\Novelis\"\n",
    "                 \"\\Tensile_test\\Data organised for Matflow\\Tensile_test_AlloyC.csv\")\n",
    "## Data:\n",
    "TensileTest_data_C = read_tensile_test_CSV(CSV_file_path,CSV_arguments,eng_strain_col_index,eng_stress_col_index,\n",
    "                                           true_stress_col_index,true_strain_col_index,stress_units)"
   ]
  },
  {
   "cell_type": "markdown",
   "metadata": {},
   "source": [
    "### Extracting the columns needed"
   ]
  },
  {
   "cell_type": "code",
   "execution_count": null,
   "metadata": {},
   "outputs": [],
   "source": [
    "exp_true_strainA=TensileTest_data_A['true_strain']\n",
    "exp_true_stressA=TensileTest_data_A['true_stress']\n",
    "\n",
    "exp_true_strainB=TensileTest_data_B['true_strain']\n",
    "exp_true_stressB=TensileTest_data_B['true_stress']\n",
    "\n",
    "exp_true_strainC=TensileTest_data_C['true_strain']\n",
    "exp_true_stressC=TensileTest_data_C['true_stress']"
   ]
  },
  {
   "cell_type": "markdown",
   "metadata": {},
   "source": [
    "### Plotting Damask calibration curves"
   ]
  },
  {
   "cell_type": "code",
   "execution_count": null,
   "metadata": {},
   "outputs": [],
   "source": [
    "plt.rcParams['figure.figsize'] = 16, 4\n",
    "\n",
    "plt.subplot(1,3,1);\n",
    "plt.plot(exp_true_strainA,exp_true_stressA);\n",
    "plt.title('Alloy A')\n",
    "plt.ylabel('True Stress (MPa)',size=14)\n",
    "plt.xlabel('True Strain',size=14)\n",
    "\n",
    "plt.subplot(1,3,2);\n",
    "plt.plot(exp_true_strainB,exp_true_stressB);\n",
    "plt.title('Alloy B')\n",
    "#plt.ylabel('True Stress (MPa)',size=14)\n",
    "plt.xlabel('True Strain',size=14)\n",
    "\n",
    "plt.subplot(1,3,3);\n",
    "plt.plot(exp_true_strainC,exp_true_stressC);\n",
    "plt.title('Alloy C')\n",
    "#plt.ylabel('True Stress (MPa)',size=14)\n",
    "plt.xlabel('True Strain',size=14)"
   ]
  },
  {
   "cell_type": "markdown",
   "metadata": {},
   "source": [
    "## 2. Workflow Analysis: Check simulation and experimental data fitting\n",
    "\n",
    "### May need to: \n",
    "* install matflow -> pip install matflow\n",
    "* update matflow -> pip install -U matflow\n",
    "* install version of matflow -> pip install matflow==0.2.15 (0.2.15 is an example version)"
   ]
  },
  {
   "cell_type": "markdown",
   "metadata": {},
   "source": [
    "### Import paths:"
   ]
  },
  {
   "cell_type": "code",
   "execution_count": null,
   "metadata": {},
   "outputs": [],
   "source": [
    "uni1_path_A = r\"C:\\Users\\Laura\\Dropbox (The University of Manchester)\\Matflow_Laura\\Uniaxial_tensile_test_2021-07-16-094225\"\n",
    "uni2_path_A = r\"C:\\Users\\Laura\\Dropbox (The University of Manchester)\\Matflow_Laura\\Uniaxial_tensile_test_2021-07-17-162259\"\n",
    "uni1_path_B = r\"C:\\Users\\Laura\\Dropbox (The University of Manchester)\\Matflow_Laura\\Uniaxial_tensile_test_2021-07-16-095005\"\n",
    "uni2_path_B = r\"C:\\Users\\Laura\\Dropbox (The University of Manchester)\\Matflow_Laura\\Uniaxial_tensile_test_2021-07-17-162559\"\n",
    "uni1_path_C = r\"C:\\Users\\Laura\\Dropbox (The University of Manchester)\\Matflow_Laura\\Uniaxial_tensile_test_2021-07-16-095455\"\n",
    "uni2_path_C = r\"C:\\Users\\Laura\\Dropbox (The University of Manchester)\\Matflow_Laura\\Uniaxial_tensile_test_2021-07-17-162929\"\n",
    "ps1_path_A = r\"C:\\Users\\Laura\\Dropbox (The University of Manchester)\\Matflow_Laura\\Plane_strain_tension_2021-07-15-184146\"\n",
    "ps2_path_A = r\"C:\\Users\\Laura\\Dropbox (The University of Manchester)\\Matflow_Laura\\Plane_strain_tension_2021-07-17-163300\"\n",
    "ps1_path_B = r\"C:\\Users\\Laura\\Dropbox (The University of Manchester)\\Matflow_Laura\\Plane_strain_tension_2021-07-16-093057\"\n",
    "ps2_path_B = r\"C:\\Users\\Laura\\Dropbox (The University of Manchester)\\Matflow_Laura\\Plane_strain_tension_2021-07-17-163514\"\n",
    "ps1_path_C = r\"C:\\Users\\Laura\\Dropbox (The University of Manchester)\\Matflow_Laura\\Plane_strain_tension_2021-07-16-093451\"\n",
    "ps2_path_C = r\"C:\\Users\\Laura\\Dropbox (The University of Manchester)\\Matflow_Laura\\Plane_strain_tension_2021-07-17-163744\""
   ]
  },
  {
   "cell_type": "markdown",
   "metadata": {},
   "source": [
    "### Extraction of the workflows:"
   ]
  },
  {
   "cell_type": "code",
   "execution_count": null,
   "metadata": {},
   "outputs": [],
   "source": [
    "workflow_uni1_A = load_workflow(uni1_path_A)\n",
    "workflow_uni2_A = load_workflow(uni2_path_A)\n",
    "workflow_uni1_B = load_workflow(uni1_path_B)\n",
    "workflow_uni2_B = load_workflow(uni2_path_B)\n",
    "workflow_uni1_C = load_workflow(uni1_path_C)\n",
    "workflow_uni2_C = load_workflow(uni2_path_C)\n",
    "workflow_ps1_A = load_workflow(ps1_path_A)\n",
    "workflow_ps2_A = load_workflow(ps2_path_A)\n",
    "workflow_ps1_B = load_workflow(ps1_path_B)\n",
    "workflow_ps2_B = load_workflow(ps2_path_B)\n",
    "workflow_ps1_C = load_workflow(ps1_path_C)\n",
    "workflow_ps2_C = load_workflow(ps2_path_C)"
   ]
  },
  {
   "cell_type": "markdown",
   "metadata": {},
   "source": [
    "### Extracting stress and strain data from the simulations:"
   ]
  },
  {
   "cell_type": "code",
   "execution_count": null,
   "metadata": {},
   "outputs": [],
   "source": [
    "uni1_stress_A = workflow_uni1_A.tasks[5].elements[0].outputs.volume_element_response['vol_avg_equivalent_stress']['data']\n",
    "uni1_strain_A = workflow_uni1_A.tasks[5].elements[0].outputs.volume_element_response['vol_avg_equivalent_strain']['data']\n",
    "uni2_stress_A = workflow_uni2_A.tasks[5].elements[0].outputs.volume_element_response['vol_avg_equivalent_stress']['data']\n",
    "uni2_strain_A = workflow_uni2_A.tasks[5].elements[0].outputs.volume_element_response['vol_avg_equivalent_strain']['data']\n",
    "\n",
    "uni1_stress_B = workflow_uni1_B.tasks[5].elements[0].outputs.volume_element_response['vol_avg_equivalent_stress']['data']\n",
    "uni1_strain_B = workflow_uni1_B.tasks[5].elements[0].outputs.volume_element_response['vol_avg_equivalent_strain']['data']\n",
    "uni2_stress_B = workflow_uni2_B.tasks[5].elements[0].outputs.volume_element_response['vol_avg_equivalent_stress']['data']\n",
    "uni2_strain_B = workflow_uni2_B.tasks[5].elements[0].outputs.volume_element_response['vol_avg_equivalent_strain']['data']\n",
    "\n",
    "uni1_stress_C = workflow_uni1_C.tasks[5].elements[0].outputs.volume_element_response['vol_avg_equivalent_stress']['data']\n",
    "uni1_strain_C = workflow_uni1_C.tasks[5].elements[0].outputs.volume_element_response['vol_avg_equivalent_strain']['data']\n",
    "uni2_stress_C = workflow_uni2_C.tasks[5].elements[0].outputs.volume_element_response['vol_avg_equivalent_stress']['data']\n",
    "uni2_strain_C = workflow_uni2_C.tasks[5].elements[0].outputs.volume_element_response['vol_avg_equivalent_strain']['data']\n",
    "\n",
    "ps1_stress_A = (workflow_ps1_A.tasks[5].elements[0].outputs.volume_element_response['vol_avg_equivalent_stress']['data'])\n",
    "ps1_strain_A = (workflow_ps1_A.tasks[5].elements[0].outputs.volume_element_response['vol_avg_equivalent_strain']['data'])\n",
    "ps2_stress_A = (workflow_ps2_A.tasks[5].elements[0].outputs.volume_element_response['vol_avg_equivalent_stress']['data'])\n",
    "ps2_strain_A = (workflow_ps2_A.tasks[5].elements[0].outputs.volume_element_response['vol_avg_equivalent_strain']['data'])\n",
    "\n",
    "ps1_stress_B = (workflow_ps1_B.tasks[5].elements[0].outputs.volume_element_response['vol_avg_equivalent_stress']['data'])\n",
    "ps1_strain_B = (workflow_ps1_B.tasks[5].elements[0].outputs.volume_element_response['vol_avg_equivalent_strain']['data'])\n",
    "ps2_stress_B = (workflow_ps2_B.tasks[5].elements[0].outputs.volume_element_response['vol_avg_equivalent_stress']['data'])\n",
    "ps2_strain_B = (workflow_ps2_B.tasks[5].elements[0].outputs.volume_element_response['vol_avg_equivalent_strain']['data'])\n",
    "\n",
    "ps1_stress_C = (workflow_ps1_C.tasks[5].elements[0].outputs.volume_element_response['vol_avg_equivalent_stress']['data'])\n",
    "ps1_strain_C = (workflow_ps1_C.tasks[5].elements[0].outputs.volume_element_response['vol_avg_equivalent_strain']['data'])\n",
    "ps2_stress_C = (workflow_ps2_C.tasks[5].elements[0].outputs.volume_element_response['vol_avg_equivalent_stress']['data'])\n",
    "ps2_strain_C = (workflow_ps2_C.tasks[5].elements[0].outputs.volume_element_response['vol_avg_equivalent_strain']['data'])"
   ]
  },
  {
   "cell_type": "markdown",
   "metadata": {},
   "source": [
    "### Calibration curves and uniaxial and plane strain tension simulations curves: Alloy A, B and C comparison"
   ]
  },
  {
   "cell_type": "code",
   "execution_count": null,
   "metadata": {},
   "outputs": [],
   "source": [
    "plt.rcParams['figure.figsize'] = 16, 6\n",
    "\n",
    "plt.subplot(1,3,1);\n",
    "plt.plot(exp_true_strainA[0:850],exp_true_stressA[0:850],label='Calibration - Alloy A');\n",
    "plt.plot(exp_true_strainB[0:850],exp_true_stressB[0:850],label='Calibration - Alloy B');\n",
    "plt.plot(exp_true_strainC[0:850],exp_true_stressC[0:850],label='Calibration - Alloy C');\n",
    "plt.title('Damask calibration curves\\n', fontsize=22)\n",
    "plt.ylabel('True Stress (MPa)',size=22)\n",
    "plt.xlabel('True Strain',size=22)\n",
    "plt.legend(loc='lower right')\n",
    "plt.xlim([-0.01, 0.18])\n",
    "plt.ylim([0, 250])\n",
    "\n",
    "plt.subplot(1,3,2);\n",
    "plt.plot(uni1_strain_A,uni1_stress_A/1e6,label='Simulation 1 - Alloy A')\n",
    "plt.plot(uni2_strain_A,uni2_stress_A/1e6,label='Simulation 2 - Alloy A', color='blue')\n",
    "plt.plot(uni1_strain_B,uni1_stress_B/1e6,label='Simulation 1 - Alloy B')\n",
    "plt.plot(uni2_strain_B,uni2_stress_B/1e6,label='Simulation 2 - Alloy B', color='orange')\n",
    "plt.plot(uni1_strain_C,uni1_stress_C/1e6,label='Simulation 1 - Alloy C')\n",
    "plt.plot(uni2_strain_C,uni2_stress_C/1e6,label='Simulation 2 - Alloy C', color='green')\n",
    "plt.title('Uniaxial simulations\\n', fontsize=22)\n",
    "#plt.ylabel('True Stress (MPa)',size=22)\n",
    "plt.xlabel('True Strain',size=22)\n",
    "plt.legend(loc='lower right')\n",
    "plt.xlim([-0.01, 0.18])\n",
    "plt.ylim([0, 250])\n",
    "\n",
    "plt.subplot(1,3,3);\n",
    "plt.plot(ps1_strain_A[0:800],ps1_stress_A[0:800]/1e6,label='Simulation 1 - Alloy A')\n",
    "plt.plot(ps2_strain_A[0:800],ps2_stress_A[0:800]/1e6,label='Simulation 2 - Alloy A', color='blue')\n",
    "plt.plot(ps1_strain_B[0:800],ps1_stress_B[0:800]/1e6,label='Simulation 1 - Alloy B')\n",
    "plt.plot(ps2_strain_B[0:800],ps2_stress_B[0:800]/1e6,label='Simulation 2 - Alloy B', color='orange')\n",
    "plt.plot(ps1_strain_C[0:800],ps1_stress_C[0:800]/1e6,label='Simulation 1 - Alloy C')\n",
    "plt.plot(ps2_strain_C[0:800],ps2_stress_C[0:800]/1e6,label='Simulation 2 - Alloy C', color='green')\n",
    "plt.title('Plane strain simulations\\n', fontsize=22)\n",
    "#plt.ylabel('True Stress (MPa)',size=22)\n",
    "plt.xlabel('True Strain',size=22)\n",
    "plt.legend(loc='lower right')\n",
    "plt.xlim([-0.01, 0.18])\n",
    "plt.ylim([0, 250])\n",
    "\n",
    "plt.savefig(r\"C:\\Users\\Laura\\Dropbox (The University of Manchester)\\Mini-project\\Experiments\\Results\\Pictures\\calibration_comparison.png\")"
   ]
  },
  {
   "cell_type": "markdown",
   "metadata": {},
   "source": [
    "### Alloys A, B and C stress-strain curves: Calibration, uniaxial tension and plane strain tension comparison"
   ]
  },
  {
   "cell_type": "code",
   "execution_count": null,
   "metadata": {},
   "outputs": [],
   "source": [
    "plt.rcParams['figure.figsize'] = 16, 6\n",
    "\n",
    "plt.subplot(1,3,1);\n",
    "plt.rcParams['figure.figsize'] = 10, 8\n",
    "plt.plot(exp_true_strainA[2:900:50],np.array(exp_true_stressA[2:900:50]),label='Calibration')\n",
    "plt.plot(uni1_strain_A,uni1_stress_A/1e6,label='Uniaxial simulation 1')\n",
    "plt.plot(uni2_strain_A,uni2_stress_A/1e6,label='Uniaxial simulation 2',color='orange')\n",
    "plt.plot(ps1_strain_A,ps1_stress_A/1e6,label='Plane Strain simulation 1')\n",
    "plt.plot(ps2_strain_A,ps2_stress_A/1e6,label='Plane Strain simulation 2',color='green')\n",
    "plt.title('Alloy A', fontsize=24)\n",
    "plt.ylabel('True Stress (MPa)',size=22)\n",
    "plt.xlabel('True Strain',size=22)\n",
    "plt.legend()\n",
    "\n",
    "plt.subplot(1,3,2);\n",
    "plt.plot(exp_true_strainB[2:900:50],np.array(exp_true_stressB[2:900:50]),label='Calibration')\n",
    "plt.plot(uni1_strain_B,uni1_stress_B/1e6,label='Uniaxial simulationn 1')\n",
    "plt.plot(uni2_strain_B,uni2_stress_B/1e6,label='Uniaxial simulation 2',color='orange')\n",
    "plt.plot(ps1_strain_B,ps1_stress_B/1e6,label='Plane Strain simulation 1')\n",
    "plt.plot(ps1_strain_B,ps2_stress_B/1e6,label='Plane Strain simulation 2',color='green')\n",
    "plt.title('Alloy B', fontsize=24)\n",
    "#plt.ylabel('True Stress (MPa)',size=14)\n",
    "plt.xlabel('True Strain',size=22)\n",
    "plt.legend()\n",
    "\n",
    "plt.subplot(1,3,3);\n",
    "plt.plot(exp_true_strainC[2:900:50],np.array(exp_true_stressC[2:900:50]),label='Calibration')\n",
    "plt.plot(uni1_strain_C,uni1_stress_C/1e6,label='Uniaxial simulation 1')\n",
    "plt.plot(uni2_strain_C,uni2_stress_C/1e6,label='Uniaxial simulation 2',color='orange')\n",
    "plt.plot(ps1_strain_C,ps1_stress_C/1e6,label='Plane strain simulation 1')\n",
    "plt.plot(ps2_strain_C,ps2_stress_C/1e6,label='Plane strain simulation 2',color='green')\n",
    "plt.title('Alloy C', fontsize=24)\n",
    "#plt.ylabel('True Stress (MPa)',size=14)\n",
    "plt.xlabel('True Strain',size=22)\n",
    "plt.legend()\n",
    "\n",
    "plt.savefig(r\"C:\\Users\\Laura\\Dropbox (The University of Manchester)\\Mini-project\\Experiments\\Results\\Pictures\\calibration.png\")"
   ]
  }
 ],
 "metadata": {
  "kernelspec": {
   "display_name": "Python 3",
   "language": "python",
   "name": "python3"
  },
  "language_info": {
   "codemirror_mode": {
    "name": "ipython",
    "version": 3
   },
   "file_extension": ".py",
   "mimetype": "text/x-python",
   "name": "python",
   "nbconvert_exporter": "python",
   "pygments_lexer": "ipython3",
   "version": "3.8.5"
  }
 },
 "nbformat": 4,
 "nbformat_minor": 4
}
