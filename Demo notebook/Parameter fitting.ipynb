{
 "cells": [
  {
   "cell_type": "markdown",
   "metadata": {},
   "source": [
    "# Parameter fitting"
   ]
  },
  {
   "cell_type": "code",
   "execution_count": 1,
   "metadata": {},
   "outputs": [],
   "source": [
    "import matplotlib.pyplot as plt\n",
    "import sys\n",
    "import hickle\n",
    "from pathlib import Path\n",
    "import numpy as np\n",
    "from formable.utils import read_non_uniform_csv\n",
    "from formable.tensile_test import TensileTest\n",
    "from tensile_test import read_tensile_test_CSV\n",
    "from matflow import load_workflow\n",
    "import matplotlib.pyplot as plt\n",
    "import numpy as np\n",
    "import matplotlib.patches as mpatches"
   ]
  },
  {
   "cell_type": "markdown",
   "metadata": {},
   "source": [
    "## 1. Check Tensile Test Data"
   ]
  },
  {
   "cell_type": "markdown",
   "metadata": {},
   "source": [
    "### Defining parameters to be read: true stress and true strain"
   ]
  },
  {
   "cell_type": "code",
   "execution_count": 2,
   "metadata": {},
   "outputs": [],
   "source": [
    "true_strain_col_index= 2 # 0 is left most column\n",
    "true_stress_col_index= 3 \n",
    "eng_strain_col_index = None\n",
    "eng_stress_col_index = None\n",
    "stress_units=\"PA\" # MPA or GPA\n",
    "CSV_arguments = {\"delimiter\":',',\"skip_rows\":1,\"header_row\":0}"
   ]
  },
  {
   "cell_type": "markdown",
   "metadata": {},
   "source": [
    "### Reading data from the paths"
   ]
  },
  {
   "cell_type": "code",
   "execution_count": 3,
   "metadata": {},
   "outputs": [],
   "source": [
    "## Path:\n",
    "CSV_file_path = (r\"C:\\Users\\Laura\\Dropbox (The University of Manchester)\\Mini-project\\Experiments\\Data\\Novelis\"\n",
    "                 \"\\Tensile_test\\Data organised for Matflow\\Tensile_test_AlloyA.csv\")\n",
    "## Data:\n",
    "TensileTest_data_A = read_tensile_test_CSV(CSV_file_path,CSV_arguments,eng_strain_col_index,eng_stress_col_index,\n",
    "                                           true_stress_col_index,true_strain_col_index,stress_units)\n",
    "## Path:\n",
    "CSV_file_path = (r\"C:\\Users\\Laura\\Dropbox (The University of Manchester)\\Mini-project\\Experiments\\Data\\Novelis\"\n",
    "                 \"\\Tensile_test\\Data organised for Matflow\\Tensile_test_AlloyB.csv\")\n",
    "## Data:\n",
    "TensileTest_data_B = read_tensile_test_CSV(CSV_file_path,CSV_arguments,eng_strain_col_index,eng_stress_col_index,\n",
    "                                           true_stress_col_index,true_strain_col_index,stress_units)\n",
    "## Path:\n",
    "CSV_file_path = (r\"C:\\Users\\Laura\\Dropbox (The University of Manchester)\\Mini-project\\Experiments\\Data\\Novelis\"\n",
    "                 \"\\Tensile_test\\Data organised for Matflow\\Tensile_test_AlloyC.csv\")\n",
    "## Data:\n",
    "TensileTest_data_C = read_tensile_test_CSV(CSV_file_path,CSV_arguments,eng_strain_col_index,eng_stress_col_index,\n",
    "                                           true_stress_col_index,true_strain_col_index,stress_units)"
   ]
  },
  {
   "cell_type": "markdown",
   "metadata": {},
   "source": [
    "### Extracting the columns needed"
   ]
  },
  {
   "cell_type": "code",
   "execution_count": 4,
   "metadata": {},
   "outputs": [],
   "source": [
    "exp_true_strainA=TensileTest_data_A['true_strain']\n",
    "exp_true_stressA=TensileTest_data_A['true_stress']\n",
    "\n",
    "exp_true_strainB=TensileTest_data_B['true_strain']\n",
    "exp_true_stressB=TensileTest_data_B['true_stress']\n",
    "\n",
    "exp_true_strainC=TensileTest_data_C['true_strain']\n",
    "exp_true_stressC=TensileTest_data_C['true_stress']"
   ]
  },
  {
   "cell_type": "markdown",
   "metadata": {},
   "source": [
    "### Plotting Damask calibration curve"
   ]
  },
  {
   "cell_type": "code",
   "execution_count": 15,
   "metadata": {},
   "outputs": [
    {
     "data": {
      "text/plain": [
       "Text(0.5, 0, 'True Strain')"
      ]
     },
     "execution_count": 15,
     "metadata": {},
     "output_type": "execute_result"
    },
    {
     "data": {
      "image/png": "[encoded data removed]",
      "text/plain": [
       "<Figure size 1152x288 with 3 Axes>"
      ]
     },
     "metadata": {
      "needs_background": "light"
     },
     "output_type": "display_data"
    }
   ],
   "source": [
    "plt.rcParams['figure.figsize'] = 16, 4\n",
    "\n",
    "plt.subplot(1,3,1);\n",
    "plt.plot(exp_true_strainA,exp_true_stressA);\n",
    "plt.title('Alloy A')\n",
    "plt.ylabel('True Stress (MPa)',size=14)\n",
    "plt.xlabel('True Strain',size=14)\n",
    "\n",
    "plt.subplot(1,3,2);\n",
    "plt.plot(exp_true_strainB,exp_true_stressB);\n",
    "plt.title('Alloy B')\n",
    "#plt.ylabel('True Stress (MPa)',size=14)\n",
    "plt.xlabel('True Strain',size=14)\n",
    "\n",
    "plt.subplot(1,3,3);\n",
    "plt.plot(exp_true_strainC,exp_true_stressC);\n",
    "plt.title('Alloy C')\n",
    "#plt.ylabel('True Stress (MPa)',size=14)\n",
    "plt.xlabel('True Strain',size=14)"
   ]
  },
  {
   "cell_type": "markdown",
   "metadata": {},
   "source": [
    "## 2. Workflow Analysis: Parameter fitting\n",
    "\n",
    "### May need to: \n",
    "* install matflow -> pip install matflow\n",
    "* update matflow -> pip install -U matflow\n",
    "* install version of matflow -> pip install matflow==0.2.15 (0.2.15 is an example version)"
   ]
  },
  {
   "cell_type": "markdown",
   "metadata": {},
   "source": [
    "### Getting experimental true strain and true stress from the simulations"
   ]
  },
  {
   "cell_type": "markdown",
   "metadata": {},
   "source": [
    "### Import paths:"
   ]
  },
  {
   "cell_type": "code",
   "execution_count": 6,
   "metadata": {
    "scrolled": true
   },
   "outputs": [],
   "source": [
    "fitting_path  = (r\"C:\\Users\\Laura\\Dropbox (The University of Manchester)\\Matflow_Laura\")"
   ]
  },
  {
   "cell_type": "code",
   "execution_count": 7,
   "metadata": {},
   "outputs": [],
   "source": [
    "fitting_A=fitting_path+'\\damask_plastic_parameter_fitting_2021-06-21-140847'\n",
    "fitting_B=fitting_path+'\\damask_plastic_parameter_fitting_2021-06-21-141029'\n",
    "fitting_C=fitting_path+'\\damask_plastic_parameter_fitting_2021-06-21-141205'"
   ]
  },
  {
   "cell_type": "markdown",
   "metadata": {},
   "source": [
    "### Extracting the workflows from the simulations"
   ]
  },
  {
   "cell_type": "code",
   "execution_count": 8,
   "metadata": {},
   "outputs": [
    {
     "name": "stdout",
     "output_type": "stream",
     "text": [
      "Loading matflow config from C:\\Users\\Laura\\.matflow\\config.yml\n",
      "Loading task schemas from 1 file(s)...OK!\n",
      "Loading software definitions from 1 file(s)...OK!\n"
     ]
    }
   ],
   "source": [
    "workflow_A = load_workflow(fitting_A)\n",
    "workflow_B = load_workflow(fitting_B)\n",
    "workflow_C = load_workflow(fitting_C)"
   ]
  },
  {
   "cell_type": "markdown",
   "metadata": {},
   "source": [
    "### Extracting experimental data from the workflows"
   ]
  },
  {
   "cell_type": "code",
   "execution_count": 9,
   "metadata": {},
   "outputs": [],
   "source": [
    "exp_stress_A = workflow_A.tasks[5].elements[0].outputs.tensile_test['true_stress'] \n",
    "exp_strain_A = workflow_A.tasks[5].elements[0].outputs.tensile_test['true_strain'] \n",
    "exp_stress_B = workflow_B.tasks[5].elements[0].outputs.tensile_test['true_stress'] \n",
    "exp_strain_B = workflow_B.tasks[5].elements[0].outputs.tensile_test['true_strain'] \n",
    "exp_stress_C = workflow_C.tasks[5].elements[0].outputs.tensile_test['true_stress']  \n",
    "exp_strain_C = workflow_C.tasks[5].elements[0].outputs.tensile_test['true_strain'] "
   ]
  },
  {
   "cell_type": "markdown",
   "metadata": {},
   "source": [
    "### Plotting the experimental and simulated data"
   ]
  },
  {
   "cell_type": "code",
   "execution_count": 10,
   "metadata": {},
   "outputs": [
    {
     "data": {
      "text/plain": [
       "<matplotlib.legend.Legend at 0x20f798b2100>"
      ]
     },
     "execution_count": 10,
     "metadata": {},
     "output_type": "execute_result"
    },
    {
     "data": {
      "image/png": "[encoded data removed]",
      "text/plain": [
       "<Figure size 1152x288 with 3 Axes>"
      ]
     },
     "metadata": {
      "needs_background": "light"
     },
     "output_type": "display_data"
    }
   ],
   "source": [
    "plt.rcParams['figure.figsize'] = 16, 4\n",
    "\n",
    "############### Alloy A ###########################\n",
    "plt.subplot(1,3,1);\n",
    "plt.plot(exp_strain_A[2:-1:50],np.array(exp_stress_A[2:-1:50])/1e6,label='Damask calibration');\n",
    "for n in range(len(workflow_A.tasks[6].elements)):\n",
    "    stress = workflow_A.tasks[6].elements[n].outputs.volume_element_response['vol_avg_equivalent_stress']['data']\n",
    "    strain = workflow_A.tasks[6].elements[n].outputs.volume_element_response['vol_avg_equivalent_strain']['data']\n",
    "    plt.plot(strain,stress/1e6) \n",
    "    if n==4:\n",
    "        plt.plot(strain,stress/1e6, label='Rest of colours are Damask simulations')\n",
    "        \n",
    "plt.title('Alloy A')\n",
    "plt.ylabel('True Stress (MPa)',size=14)\n",
    "plt.xlabel('True Strain',size=14)\n",
    "plt.legend()\n",
    "\n",
    "############### Alloy B ###########################\n",
    "plt.subplot(1,3,2);\n",
    "plt.plot(exp_strain_B[2:-1:50],np.array(exp_stress_B[2:-1:50])/1e6,label='Damask calibration');\n",
    "for n in range(len(workflow_B.tasks[6].elements)):\n",
    "    stress = workflow_B.tasks[6].elements[n].outputs.volume_element_response['vol_avg_equivalent_stress']['data']\n",
    "    strain = workflow_B.tasks[6].elements[n].outputs.volume_element_response['vol_avg_equivalent_strain']['data']  \n",
    "    plt.plot(strain,stress/1e6) \n",
    "    if n==4:\n",
    "        plt.plot(strain,stress/1e6, label='Rest of colours are Damask simulations')\n",
    "        \n",
    "plt.title('Alloy B')\n",
    "plt.ylabel('True Stress (MPa)',size=14)\n",
    "plt.xlabel('True Strain',size=14)\n",
    "plt.legend()\n",
    "\n",
    "############### Alloy C ###########################\n",
    "plt.subplot(1,3,3);\n",
    "p1, =plt.plot(exp_strain_C[2:-1:50],np.array(exp_stress_C[2:-1:50])/1e6,label='Damask calibration');\n",
    "\n",
    "for n in range(len(workflow_C.tasks[6].elements)):\n",
    "    stress = workflow_C.tasks[6].elements[n].outputs.volume_element_response['vol_avg_equivalent_stress']['data']\n",
    "    strain = workflow_C.tasks[6].elements[n].outputs.volume_element_response['vol_avg_equivalent_strain']['data']\n",
    "    plt.plot(strain,stress/1e6)\n",
    "    if n==4:\n",
    "        plt.plot(strain,stress/1e6, label='Rest of colours are Damask simulations')\n",
    "\n",
    "plt.title('Alloy C')\n",
    "plt.ylabel('True Stress (MPa)',size=14)\n",
    "plt.xlabel('True Strain',size=14)\n",
    "plt.legend()"
   ]
  },
  {
   "cell_type": "markdown",
   "metadata": {},
   "source": [
    "The optimal initial crystal plasticity parameters correspond to the values of the last simulation, which is the last and best approach (Sim 4). For example:"
   ]
  },
  {
   "cell_type": "code",
   "execution_count": 36,
   "metadata": {},
   "outputs": [
    {
     "name": "stdout",
     "output_type": "stream",
     "text": [
      "\n",
      "      h₀ (n = 1 ) = 431.53 MPa\n",
      "\n",
      "      h₀ (n = 2 ) = 431.96 MPa\n",
      "\n",
      "      h₀ (n = 3 ) = 431.93 MPa\n",
      "\n",
      "      h₀ (n = 4 ) = 431.92 MPa\n",
      "\n",
      "          Optimal value   -------->   h₀ =  431.92 MPa\n"
     ]
    }
   ],
   "source": [
    "for n in range(len(workflow_A.tasks[7].elements)):\n",
    "    h_0_sl_sl = workflow_A.tasks[7].elements[n].outputs.single_crystal_parameters['Al']['h_0_sl_sl']\n",
    "    xi_0_sl = workflow_A.tasks[7].elements[n].outputs.single_crystal_parameters['Al']['xi_0_sl']\n",
    "    xi_inf_sl = workflow_A.tasks[7].elements[n].outputs.single_crystal_parameters['Al']['xi_inf_sl']\n",
    "    a_sl = workflow_A.tasks[7].elements[n].outputs.single_crystal_parameters['Al']['a_sl']\n",
    "    print(\"\\n      h\\u2080 (n =\", n+1,\") =\", round(h_0_sl_sl/1e6,2), \"MPa\")\n",
    "print(\"\\n          Optimal value   -------->   h\\u2080 = \", round(h_0_sl_sl/1e6,2), \"MPa\")"
   ]
  },
  {
   "cell_type": "markdown",
   "metadata": {},
   "source": [
    "## Getting the optimised crystal plasticity parameters"
   ]
  },
  {
   "cell_type": "markdown",
   "metadata": {},
   "source": [
    "-----------------------------------------"
   ]
  },
  {
   "cell_type": "markdown",
   "metadata": {},
   "source": [
    "> ### Alloy A"
   ]
  },
  {
   "cell_type": "code",
   "execution_count": 12,
   "metadata": {},
   "outputs": [
    {
     "name": "stdout",
     "output_type": "stream",
     "text": [
      "\n",
      " The optimised initial crystal parameters of Alloy A are:\n",
      " \n",
      "   ================================= \n",
      "      h₀ =  431.92 MPa \n",
      "      x₀ =  [41.88064428] MPa \n",
      "      x_inf = [230.08345956] MPa \n",
      "      a = 4.674085369070763 \n",
      "   =================================\n"
     ]
    }
   ],
   "source": [
    "for n in range(len(workflow_A.tasks[7].elements)):\n",
    "    h_0_sl_sl = workflow_A.tasks[7].elements[n].outputs.single_crystal_parameters['Al']['h_0_sl_sl']\n",
    "    xi_0_sl = workflow_A.tasks[7].elements[n].outputs.single_crystal_parameters['Al']['xi_0_sl']\n",
    "    xi_inf_sl = workflow_A.tasks[7].elements[n].outputs.single_crystal_parameters['Al']['xi_inf_sl']\n",
    "    a_sl = workflow_A.tasks[7].elements[n].outputs.single_crystal_parameters['Al']['a_sl']\n",
    "\n",
    "print(\"\\n The optimised initial crystal parameters of Alloy A are:\\n\", \"\\n   =================================\",\n",
    "      \"\\n      h\\u2080 = \", round(h_0_sl_sl/1e6,2), \"MPa\", \"\\n      x\\u2080 = \", np.array(xi_0_sl)/1e6, \"MPa\", \"\\n      x_inf =\", np.array(xi_inf_sl)/1e6,\"MPa\", \"\\n      a =\", \n",
    "      a_sl, \"\\n   =================================\")"
   ]
  },
  {
   "cell_type": "markdown",
   "metadata": {},
   "source": [
    "-----------------------------------------------------------------------------------"
   ]
  },
  {
   "cell_type": "markdown",
   "metadata": {},
   "source": [
    "> ### Alloy B"
   ]
  },
  {
   "cell_type": "code",
   "execution_count": 13,
   "metadata": {},
   "outputs": [
    {
     "name": "stdout",
     "output_type": "stream",
     "text": [
      "\n",
      " The optimised initial crystal parameters of Alloy A are:\n",
      " \n",
      "   ================================= \n",
      "      h₀ =  407.3 MPa \n",
      "      x₀ =  [44.29895104] MPa \n",
      "      x_inf = [231.89606878] MPa \n",
      "      a = 4.656490168997871 \n",
      "   =================================\n"
     ]
    }
   ],
   "source": [
    "for n in range(len(workflow_B.tasks[7].elements)):\n",
    "    h_0_sl_sl = workflow_B.tasks[7].elements[n].outputs.single_crystal_parameters['Al']['h_0_sl_sl']\n",
    "    xi_0_sl = workflow_B.tasks[7].elements[n].outputs.single_crystal_parameters['Al']['xi_0_sl']\n",
    "    xi_inf_sl = workflow_B.tasks[7].elements[n].outputs.single_crystal_parameters['Al']['xi_inf_sl']\n",
    "    a_sl = workflow_B.tasks[7].elements[n].outputs.single_crystal_parameters['Al']['a_sl']\n",
    "\n",
    "    \n",
    "print(\"\\n The optimised initial crystal parameters of Alloy A are:\\n\", \"\\n   =================================\",\n",
    "      \"\\n      h\\u2080 = \", round(h_0_sl_sl/1e6,2), \"MPa\", \"\\n      x\\u2080 = \", np.array(xi_0_sl)/1e6, \"MPa\", \"\\n      x_inf =\", np.array(xi_inf_sl)/1e6,\"MPa\", \"\\n      a =\", \n",
    "      a_sl, \"\\n   =================================\")"
   ]
  },
  {
   "cell_type": "markdown",
   "metadata": {},
   "source": [
    "--------------------------------"
   ]
  },
  {
   "cell_type": "markdown",
   "metadata": {},
   "source": [
    "> ### Alloy C"
   ]
  },
  {
   "cell_type": "code",
   "execution_count": 14,
   "metadata": {},
   "outputs": [
    {
     "name": "stdout",
     "output_type": "stream",
     "text": [
      "\n",
      " The optimised initial crystal parameters of Alloy A are:\n",
      " \n",
      "   ================================= \n",
      "      h₀ =  419.1 MPa \n",
      "      x₀ =  [39.65866336] MPa \n",
      "      x_inf = [216.03239275] MPa \n",
      "      a = 4.93946922405721 \n",
      "   =================================\n"
     ]
    }
   ],
   "source": [
    "for n in range(len(workflow_C.tasks[7].elements)):\n",
    "    h_0_sl_sl = workflow_C.tasks[7].elements[n].outputs.single_crystal_parameters['Al']['h_0_sl_sl']\n",
    "    xi_0_sl = workflow_C.tasks[7].elements[n].outputs.single_crystal_parameters['Al']['xi_0_sl']\n",
    "    xi_inf_sl = workflow_C.tasks[7].elements[n].outputs.single_crystal_parameters['Al']['xi_inf_sl']\n",
    "    a_sl = workflow_C.tasks[7].elements[n].outputs.single_crystal_parameters['Al']['a_sl']\n",
    "\n",
    "print(\"\\n The optimised initial crystal parameters of Alloy A are:\\n\", \"\\n   =================================\",\n",
    "      \"\\n      h\\u2080 = \", round(h_0_sl_sl/1e6,2), \"MPa\", \"\\n      x\\u2080 = \", np.array(xi_0_sl)/1e6, \"MPa\", \"\\n      x_inf =\", np.array(xi_inf_sl)/1e6,\"MPa\", \"\\n      a =\", \n",
    "      a_sl, \"\\n   =================================\")"
   ]
  },
  {
   "cell_type": "markdown",
   "metadata": {},
   "source": [
    "#### All these optimised values will be introduced in the uniaxial and plane strain simulations."
   ]
  }
 ],
 "metadata": {
  "kernelspec": {
   "display_name": "Python 3",
   "language": "python",
   "name": "python3"
  },
  "language_info": {
   "codemirror_mode": {
    "name": "ipython",
    "version": 3
   },
   "file_extension": ".py",
   "mimetype": "text/x-python",
   "name": "python",
   "nbconvert_exporter": "python",
   "pygments_lexer": "ipython3",
   "version": "3.8.5"
  }
 },
 "nbformat": 4,
 "nbformat_minor": 4
}
